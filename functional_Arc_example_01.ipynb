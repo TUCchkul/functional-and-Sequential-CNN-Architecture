{
 "cells": [
  {
   "cell_type": "code",
   "execution_count": 9,
   "id": "93d56b02",
   "metadata": {},
   "outputs": [],
   "source": [
    "import tensorflow as tf"
   ]
  },
  {
   "cell_type": "code",
   "execution_count": 10,
   "id": "d57e4de2",
   "metadata": {},
   "outputs": [],
   "source": [
    "input_=tf.keras.layers.Input(shape=8)\n",
    "hiden_1=tf.keras.layers.Dense(30, activation=\"relu\", name=\"hidden_1\")(input_)\n",
    "hiden_2=tf.keras.layers.Dense(30, activation=\"relu\", name=\"hidden_2\")(hiden_1)\n",
    "concat=tf.keras.layers.Concatenate()([input_, hiden_2])\n",
    "output=tf.keras.layers.Dense(1)(concat)\n",
    "model=tf.keras.Model(inputs=[input_], outputs=[output])"
   ]
  },
  {
   "cell_type": "code",
   "execution_count": 11,
   "id": "8dede4f5",
   "metadata": {},
   "outputs": [
    {
     "name": "stdout",
     "output_type": "stream",
     "text": [
      "Model: \"model_2\"\n",
      "__________________________________________________________________________________________________\n",
      " Layer (type)                   Output Shape         Param #     Connected to                     \n",
      "==================================================================================================\n",
      " input_6 (InputLayer)           [(None, 8)]          0           []                               \n",
      "                                                                                                  \n",
      " hidden_1 (Dense)               (None, 30)           270         ['input_6[0][0]']                \n",
      "                                                                                                  \n",
      " hidden_2 (Dense)               (None, 30)           930         ['hidden_1[0][0]']               \n",
      "                                                                                                  \n",
      " concatenate_4 (Concatenate)    (None, 38)           0           ['input_6[0][0]',                \n",
      "                                                                  'hidden_2[0][0]']               \n",
      "                                                                                                  \n",
      " dense_10 (Dense)               (None, 1)            39          ['concatenate_4[0][0]']          \n",
      "                                                                                                  \n",
      "==================================================================================================\n",
      "Total params: 1,239\n",
      "Trainable params: 1,239\n",
      "Non-trainable params: 0\n",
      "__________________________________________________________________________________________________\n"
     ]
    }
   ],
   "source": [
    "model.summary()"
   ]
  },
  {
   "cell_type": "code",
   "execution_count": 12,
   "id": "5eb82518",
   "metadata": {},
   "outputs": [
    {
     "name": "stdout",
     "output_type": "stream",
     "text": [
      "Model: \"model_3\"\n",
      "_________________________________________________________________\n",
      " Layer (type)                Output Shape              Param #   \n",
      "=================================================================\n",
      " input_7 (InputLayer)        [(None, 8)]               0         \n",
      "                                                                 \n",
      " hidden_1 (Dense)            (None, 30)                270       \n",
      "                                                                 \n",
      " hidden_2 (Dense)            (None, 30)                930       \n",
      "                                                                 \n",
      " dense_11 (Dense)            (None, 1)                 31        \n",
      "                                                                 \n",
      "=================================================================\n",
      "Total params: 1,231\n",
      "Trainable params: 1,231\n",
      "Non-trainable params: 0\n",
      "_________________________________________________________________\n"
     ]
    }
   ],
   "source": [
    "input_=tf.keras.layers.Input(shape=8)\n",
    "hiden_1=tf.keras.layers.Dense(30, activation=\"relu\", name=\"hidden_1\")(input_)\n",
    "hiden_2=tf.keras.layers.Dense(30, activation=\"relu\", name=\"hidden_2\")(hiden_1)\n",
    "#concat=tf.keras.layers.Concatenate()([input_, hiden_2])\n",
    "output=tf.keras.layers.Dense(1)(hiden_2)\n",
    "model_2_sequential_model_using_functional=tf.keras.Model(inputs=[input_], outputs=[output])\n",
    "model_2_sequential_model_using_functional.summary()"
   ]
  },
  {
   "cell_type": "code",
   "execution_count": 14,
   "id": "337159f4",
   "metadata": {},
   "outputs": [
    {
     "name": "stdout",
     "output_type": "stream",
     "text": [
      "Model: \"sequential_1\"\n",
      "_________________________________________________________________\n",
      " Layer (type)                Output Shape              Param #   \n",
      "=================================================================\n",
      " hidden_1 (Dense)            (None, 30)                270       \n",
      "                                                                 \n",
      " hidden_2 (Dense)            (None, 30)                930       \n",
      "                                                                 \n",
      " dense_13 (Dense)            (None, 1)                 31        \n",
      "                                                                 \n",
      "=================================================================\n",
      "Total params: 1,231\n",
      "Trainable params: 1,231\n",
      "Non-trainable params: 0\n",
      "_________________________________________________________________\n"
     ]
    }
   ],
   "source": [
    "LAYERS=[tf.keras.layers.Input(shape=8),\n",
    "tf.keras.layers.Dense(30, activation=\"relu\", name=\"hidden_1\"),\n",
    "tf.keras.layers.Dense(30, activation=\"relu\", name=\"hidden_2\"),\n",
    "#concat=tf.keras.layers.Concatenate()([input_, hiden_2])\n",
    "tf.keras.layers.Dense(1)]\n",
    "sequential_model=tf.keras.models.Sequential(LAYERS)\n",
    "sequential_model.summary()"
   ]
  },
  {
   "cell_type": "code",
   "execution_count": null,
   "id": "119fb88f",
   "metadata": {},
   "outputs": [],
   "source": []
  }
 ],
 "metadata": {
  "kernelspec": {
   "display_name": "Python 3 (ipykernel)",
   "language": "python",
   "name": "python3"
  },
  "language_info": {
   "codemirror_mode": {
    "name": "ipython",
    "version": 3
   },
   "file_extension": ".py",
   "mimetype": "text/x-python",
   "name": "python",
   "nbconvert_exporter": "python",
   "pygments_lexer": "ipython3",
   "version": "3.7.13"
  }
 },
 "nbformat": 4,
 "nbformat_minor": 5
}
